{
 "cells": [
  {
   "cell_type": "code",
   "execution_count": 1,
   "id": "bf9820a6-4a39-452c-8338-87defc299bf4",
   "metadata": {},
   "outputs": [
    {
     "data": {
      "text/plain": [
       "[PhysicalDevice(name='/physical_device:CPU:0', device_type='CPU')]"
      ]
     },
     "execution_count": 1,
     "metadata": {},
     "output_type": "execute_result"
    }
   ],
   "source": [
    "import tensorflow as tf\n",
    "tf.config.list_physical_devices()"
   ]
  },
  {
   "cell_type": "code",
   "execution_count": 2,
   "id": "1be6002c",
   "metadata": {},
   "outputs": [],
   "source": [
    "import matplotlib.pyplot as plt\n",
    "import numpy as np\n",
    "import pandas as pd\n",
    "import rdkit.rdBase as rkrb\n",
    "import rdkit.RDLogger as rkl\n",
    "import seaborn as sns\n",
    "from rdkit.Chem import CanonSmiles\n",
    "from tqdm.auto import tqdm\n",
    "\n",
    "sns.set(context=\"talk\", style=\"ticks\", color_codes=True, rc={\"legend.frameon\": False})\n",
    "\n",
    "%matplotlib inline\n",
    "import matplotlib\n",
    "matplotlib.rcParams['figure.dpi'] = 300\n",
    "plt.rcParams[\"font.family\"] = 'Arial'\n",
    "plt.rcParams.update({'font.size': 24})\n",
    "\n",
    "\n",
    "logger = rkl.logger()\n",
    "logger.setLevel(rkl.ERROR)\n",
    "rkrb.DisableLog(\"rdApp.error\")\n",
    "tqdm.pandas()\n",
    "\n",
    "%matplotlib inline"
   ]
  },
  {
   "cell_type": "code",
   "execution_count": 3,
   "id": "d1d9cdff-1fd6-4975-b8b3-d6c60b60f960",
   "metadata": {},
   "outputs": [],
   "source": [
    "data = pd.read_csv(\"CCO_CCOCC.csv\")\n",
    "data = data[~data.No.isin([48, 199, 1155, 517, 518, 931])]"
   ]
  },
  {
   "cell_type": "code",
   "execution_count": 4,
   "id": "7e33ee47-2d82-4394-9bc2-3441a07f648d",
   "metadata": {},
   "outputs": [],
   "source": [
    "data = data[data[\"Mole/Weight/Volume Fraction\"] == \"mole\"]"
   ]
  },
  {
   "cell_type": "code",
   "execution_count": 5,
   "id": "2d9a31a7",
   "metadata": {},
   "outputs": [],
   "source": [
    "blends = data[\n",
    "    [\n",
    "        \"No\",\n",
    "        \"Mole/Weight/Volume Fraction\",\n",
    "        \"CN\",\n",
    "        \"DCN or ICN\",\n",
    "        \"Method\",\n",
    "        \"Device\",\n",
    "        \"Comments\",\n",
    "        \"Reference\",\n",
    "    ]\n",
    "]\n",
    "\n",
    "blends = blends.set_index(\"No\")"
   ]
  },
  {
   "cell_type": "code",
   "execution_count": 6,
   "id": "bb2f7a99",
   "metadata": {},
   "outputs": [
    {
     "data": {
      "text/plain": [
       "mole    12\n",
       "Name: Mole/Weight/Volume Fraction, dtype: int64"
      ]
     },
     "execution_count": 6,
     "metadata": {},
     "output_type": "execute_result"
    }
   ],
   "source": [
    "blends[\"Mole/Weight/Volume Fraction\"].value_counts()"
   ]
  },
  {
   "cell_type": "code",
   "execution_count": 7,
   "id": "f0764e54",
   "metadata": {},
   "outputs": [],
   "source": [
    "smiles = data.melt(\n",
    "    id_vars=\"No\",\n",
    "    value_vars=data.columns[data.columns.str.startswith(\"smi_mol\")],\n",
    "    value_name=\"SMILES\",\n",
    ")\n",
    "m_conc = data.melt(\n",
    "    id_vars=\"No\",\n",
    "    value_vars=data.columns[data.columns.str.startswith(\"x_mol\")],\n",
    "    value_name=\"mol_pct\",\n",
    ")\n",
    "\n",
    "\n",
    "def try_canon_smiles(x):\n",
    "    try:\n",
    "        return CanonSmiles(x)\n",
    "    except Exception:\n",
    "        return None\n",
    "\n",
    "\n",
    "smiles[\"SMILES\"] = smiles.SMILES.apply(try_canon_smiles)\n",
    "smiles[\"mol_pct\"] = m_conc[\"mol_pct\"]\n",
    "fuel_comp = smiles.drop(\"variable\", axis=1)"
   ]
  },
  {
   "cell_type": "code",
   "execution_count": null,
   "id": "surface-prison",
   "metadata": {},
   "outputs": [],
   "source": []
  },
  {
   "cell_type": "code",
   "execution_count": 8,
   "id": "fcb80836-a1df-4f52-b839-17c9f07ee7b7",
   "metadata": {},
   "outputs": [
    {
     "data": {
      "text/html": [
       "<div>\n",
       "<style scoped>\n",
       "    .dataframe tbody tr th:only-of-type {\n",
       "        vertical-align: middle;\n",
       "    }\n",
       "\n",
       "    .dataframe tbody tr th {\n",
       "        vertical-align: top;\n",
       "    }\n",
       "\n",
       "    .dataframe thead th {\n",
       "        text-align: right;\n",
       "    }\n",
       "</style>\n",
       "<table border=\"1\" class=\"dataframe\">\n",
       "  <thead>\n",
       "    <tr style=\"text-align: right;\">\n",
       "      <th></th>\n",
       "      <th>No</th>\n",
       "      <th>SMILES</th>\n",
       "      <th>mol_pct</th>\n",
       "    </tr>\n",
       "  </thead>\n",
       "  <tbody>\n",
       "    <tr>\n",
       "      <th>0</th>\n",
       "      <td>505</td>\n",
       "      <td>CCO</td>\n",
       "      <td>0.941</td>\n",
       "    </tr>\n",
       "    <tr>\n",
       "      <th>1</th>\n",
       "      <td>505</td>\n",
       "      <td>CCOCC</td>\n",
       "      <td>0.059</td>\n",
       "    </tr>\n",
       "    <tr>\n",
       "      <th>2</th>\n",
       "      <td>506</td>\n",
       "      <td>CCO</td>\n",
       "      <td>0.877</td>\n",
       "    </tr>\n",
       "    <tr>\n",
       "      <th>3</th>\n",
       "      <td>506</td>\n",
       "      <td>CCOCC</td>\n",
       "      <td>0.123</td>\n",
       "    </tr>\n",
       "    <tr>\n",
       "      <th>4</th>\n",
       "      <td>507</td>\n",
       "      <td>CCO</td>\n",
       "      <td>0.842</td>\n",
       "    </tr>\n",
       "  </tbody>\n",
       "</table>\n",
       "</div>"
      ],
      "text/plain": [
       "    No SMILES  mol_pct\n",
       "0  505    CCO    0.941\n",
       "1  505  CCOCC    0.059\n",
       "2  506    CCO    0.877\n",
       "3  506  CCOCC    0.123\n",
       "4  507    CCO    0.842"
      ]
     },
     "execution_count": 8,
     "metadata": {},
     "output_type": "execute_result"
    }
   ],
   "source": [
    "fuel_comp = (\n",
    "    fuel_comp.dropna()\n",
    "    .sort_values([\"No\", \"mol_pct\"], ascending=[True, False])\n",
    "    .reset_index(drop=True)\n",
    ")\n",
    "\n",
    "# Drop a few more problematic mixtures\n",
    "mol_closure = fuel_comp.groupby(\"No\").sum().mol_pct\n",
    "fuel_comp = fuel_comp[~fuel_comp.No.isin(mol_closure[mol_closure < 0.99].index)]\n",
    "\n",
    "assert np.allclose(fuel_comp.groupby(\"No\").sum(), 1.0, atol=0.01)\n",
    "fuel_comp.head()"
   ]
  },
  {
   "cell_type": "code",
   "execution_count": 9,
   "id": "69695cec-ac90-402a-a681-ebbeb4e372e4",
   "metadata": {},
   "outputs": [
    {
     "data": {
      "text/plain": [
       "array([[505, 'CCO', 0.941],\n",
       "       [505, 'CCOCC', 0.059],\n",
       "       [506, 'CCO', 0.877],\n",
       "       [506, 'CCOCC', 0.123],\n",
       "       [507, 'CCO', 0.842],\n",
       "       [507, 'CCOCC', 0.158],\n",
       "       [508, 'CCO', 0.806],\n",
       "       [508, 'CCOCC', 0.194],\n",
       "       [509, 'CCO', 0.768],\n",
       "       [509, 'CCOCC', 0.232],\n",
       "       [510, 'CCO', 0.728],\n",
       "       [510, 'CCOCC', 0.272],\n",
       "       [511, 'CCO', 0.64],\n",
       "       [511, 'CCOCC', 0.36],\n",
       "       [512, 'CCO', 0.543],\n",
       "       [512, 'CCOCC', 0.457],\n",
       "       [513, 'CCOCC', 0.567],\n",
       "       [513, 'CCO', 0.433],\n",
       "       [514, 'CCOCC', 0.628],\n",
       "       [514, 'CCO', 0.372],\n",
       "       [515, 'CCOCC', 0.692],\n",
       "       [515, 'CCO', 0.308],\n",
       "       [516, 'CCOCC', 0.835],\n",
       "       [516, 'CCO', 0.165]], dtype=object)"
      ]
     },
     "execution_count": 9,
     "metadata": {},
     "output_type": "execute_result"
    }
   ],
   "source": [
    "np.array(fuel_comp)"
   ]
  },
  {
   "cell_type": "code",
   "execution_count": 10,
   "id": "ca0b800c-4956-4ec8-9c7e-0a018e2eb5ae",
   "metadata": {},
   "outputs": [
    {
     "data": {
      "text/plain": [
       "2"
      ]
     },
     "execution_count": 10,
     "metadata": {},
     "output_type": "execute_result"
    }
   ],
   "source": [
    "len(fuel_comp.SMILES.unique())"
   ]
  },
  {
   "cell_type": "code",
   "execution_count": 11,
   "id": "75e4c459-5388-4a16-bdd7-6bb5496683a2",
   "metadata": {},
   "outputs": [
    {
     "name": "stdout",
     "output_type": "stream",
     "text": [
      "(12, 2)\n",
      "(12, 2)\n"
     ]
    },
    {
     "name": "stderr",
     "output_type": "stream",
     "text": [
      "2023-04-20 14:03:19.977217: I tensorflow/core/platform/cpu_feature_guard.cc:142] This TensorFlow binary is optimized with oneAPI Deep Neural Network Library (oneDNN) to use the following CPU instructions in performance-critical operations:  AVX2 FMA\n",
      "To enable them in other operations, rebuild TensorFlow with the appropriate compiler flags.\n"
     ]
    }
   ],
   "source": [
    "X = fuel_comp.pivot(columns=\"SMILES\", index=\"No\", values=\"mol_pct\").fillna(0.0)\n",
    "print(X.shape)\n",
    "print(tf.convert_to_tensor(X).shape)\n",
    "blends = blends.reindex(X.index)\n",
    "y = blends.CN"
   ]
  },
  {
   "cell_type": "code",
   "execution_count": 12,
   "id": "olympic-richmond",
   "metadata": {},
   "outputs": [
    {
     "data": {
      "text/html": [
       "<div>\n",
       "<style scoped>\n",
       "    .dataframe tbody tr th:only-of-type {\n",
       "        vertical-align: middle;\n",
       "    }\n",
       "\n",
       "    .dataframe tbody tr th {\n",
       "        vertical-align: top;\n",
       "    }\n",
       "\n",
       "    .dataframe thead th {\n",
       "        text-align: right;\n",
       "    }\n",
       "</style>\n",
       "<table border=\"1\" class=\"dataframe\">\n",
       "  <thead>\n",
       "    <tr style=\"text-align: right;\">\n",
       "      <th>SMILES</th>\n",
       "      <th>CCO</th>\n",
       "      <th>CCOCC</th>\n",
       "    </tr>\n",
       "    <tr>\n",
       "      <th>No</th>\n",
       "      <th></th>\n",
       "      <th></th>\n",
       "    </tr>\n",
       "  </thead>\n",
       "  <tbody>\n",
       "    <tr>\n",
       "      <th>505</th>\n",
       "      <td>0.941</td>\n",
       "      <td>0.059</td>\n",
       "    </tr>\n",
       "    <tr>\n",
       "      <th>506</th>\n",
       "      <td>0.877</td>\n",
       "      <td>0.123</td>\n",
       "    </tr>\n",
       "    <tr>\n",
       "      <th>507</th>\n",
       "      <td>0.842</td>\n",
       "      <td>0.158</td>\n",
       "    </tr>\n",
       "    <tr>\n",
       "      <th>508</th>\n",
       "      <td>0.806</td>\n",
       "      <td>0.194</td>\n",
       "    </tr>\n",
       "    <tr>\n",
       "      <th>509</th>\n",
       "      <td>0.768</td>\n",
       "      <td>0.232</td>\n",
       "    </tr>\n",
       "    <tr>\n",
       "      <th>510</th>\n",
       "      <td>0.728</td>\n",
       "      <td>0.272</td>\n",
       "    </tr>\n",
       "    <tr>\n",
       "      <th>511</th>\n",
       "      <td>0.640</td>\n",
       "      <td>0.360</td>\n",
       "    </tr>\n",
       "    <tr>\n",
       "      <th>512</th>\n",
       "      <td>0.543</td>\n",
       "      <td>0.457</td>\n",
       "    </tr>\n",
       "    <tr>\n",
       "      <th>513</th>\n",
       "      <td>0.433</td>\n",
       "      <td>0.567</td>\n",
       "    </tr>\n",
       "    <tr>\n",
       "      <th>514</th>\n",
       "      <td>0.372</td>\n",
       "      <td>0.628</td>\n",
       "    </tr>\n",
       "    <tr>\n",
       "      <th>515</th>\n",
       "      <td>0.308</td>\n",
       "      <td>0.692</td>\n",
       "    </tr>\n",
       "    <tr>\n",
       "      <th>516</th>\n",
       "      <td>0.165</td>\n",
       "      <td>0.835</td>\n",
       "    </tr>\n",
       "  </tbody>\n",
       "</table>\n",
       "</div>"
      ],
      "text/plain": [
       "SMILES    CCO  CCOCC\n",
       "No                  \n",
       "505     0.941  0.059\n",
       "506     0.877  0.123\n",
       "507     0.842  0.158\n",
       "508     0.806  0.194\n",
       "509     0.768  0.232\n",
       "510     0.728  0.272\n",
       "511     0.640  0.360\n",
       "512     0.543  0.457\n",
       "513     0.433  0.567\n",
       "514     0.372  0.628\n",
       "515     0.308  0.692\n",
       "516     0.165  0.835"
      ]
     },
     "execution_count": 12,
     "metadata": {},
     "output_type": "execute_result"
    }
   ],
   "source": [
    "X"
   ]
  },
  {
   "cell_type": "code",
   "execution_count": 13,
   "id": "major-costume",
   "metadata": {},
   "outputs": [
    {
     "data": {
      "text/plain": [
       "array([ 7.8,  8.2,  9.2, 10.5, 11. , 16.9, 23.8, 35.5, 48.9, 56.6, 67.9,\n",
       "       97.7])"
      ]
     },
     "execution_count": 13,
     "metadata": {},
     "output_type": "execute_result"
    }
   ],
   "source": [
    "np.array(blends.CN)"
   ]
  },
  {
   "cell_type": "code",
   "execution_count": 14,
   "id": "0c8a4bcf-80f5-4de7-bf30-f5ae50852ca8",
   "metadata": {},
   "outputs": [],
   "source": [
    "import sklearn\n",
    "from sklearn.linear_model import LinearRegression"
   ]
  },
  {
   "cell_type": "code",
   "execution_count": 15,
   "id": "c342dcd1-3edc-4746-8973-89af84264811",
   "metadata": {},
   "outputs": [],
   "source": [
    "reg = LinearRegression(fit_intercept=False).fit(X, y)"
   ]
  },
  {
   "cell_type": "code",
   "execution_count": 16,
   "id": "35fad676-5157-4bc6-b069-0a5c9b5c5501",
   "metadata": {},
   "outputs": [
    {
     "data": {
      "text/plain": [
       "[<matplotlib.lines.Line2D at 0x7fc27de19610>]"
      ]
     },
     "execution_count": 16,
     "metadata": {},
     "output_type": "execute_result"
    },
    {
     "data": {
      "image/png": "[encoded data removed]",
      "text/plain": [
       "<Figure size 288x288 with 1 Axes>"
      ]
     },
     "metadata": {
      "needs_background": "light"
     },
     "output_type": "display_data"
    }
   ],
   "source": [
    "plt.figure(figsize=(4, 4))\n",
    "plt.plot(reg.predict(X), y, \".\", ms=2.5)"
   ]
  },
  {
   "cell_type": "code",
   "execution_count": 17,
   "id": "0751b718-500c-4da3-9b42-7ad12845fd43",
   "metadata": {},
   "outputs": [],
   "source": [
    "blends[\"reg_err\"] = reg.predict(X) - y"
   ]
  },
  {
   "cell_type": "code",
   "execution_count": 18,
   "id": "c9a4f821-44a7-4128-bbdb-8b046a887912",
   "metadata": {},
   "outputs": [
    {
     "data": {
      "text/plain": [
       "5.2047781279340795"
      ]
     },
     "execution_count": 18,
     "metadata": {},
     "output_type": "execute_result"
    }
   ],
   "source": [
    "sklearn.metrics.mean_absolute_error(reg.predict(X), y)"
   ]
  },
  {
   "cell_type": "code",
   "execution_count": 19,
   "id": "38cb15b4",
   "metadata": {},
   "outputs": [
    {
     "data": {
      "text/plain": [
       "(array([-10.30663426, 102.79793447]), 0.0)"
      ]
     },
     "execution_count": 19,
     "metadata": {},
     "output_type": "execute_result"
    }
   ],
   "source": [
    "reg.coef_, reg.intercept_"
   ]
  },
  {
   "cell_type": "code",
   "execution_count": 20,
   "id": "0bc3998b-dade-4eaf-b76a-c389cd8ffd01",
   "metadata": {},
   "outputs": [
    {
     "data": {
      "image/png": "[encoded data removed]",
      "text/plain": [
       "<Figure size 1080x1080 with 25 Axes>"
      ]
     },
     "metadata": {
      "needs_background": "light"
     },
     "output_type": "display_data"
    }
   ],
   "source": [
    "blends[\"components\"] = fuel_comp.groupby(\"No\").apply(\n",
    "    lambda df: tuple(sorted(df.SMILES))\n",
    ")\n",
    "\n",
    "num_comps = fuel_comp.No.value_counts()\n",
    "pure_comps = blends[blends.index.isin(num_comps[num_comps == 1].index)].copy()\n",
    "pure_comps['smiles'] = pure_comps.components.apply(lambda x: x[0])\n",
    "pure_comps = pure_comps.set_index('smiles')\n",
    "\n",
    "\n",
    "binary_blends = blends[blends.components.apply(len) == 2].components.value_counts()\n",
    "\n",
    "\n",
    "fig, axmatrix = plt.subplots(nrows=5, ncols=5, figsize=(15, 15))\n",
    "\n",
    "for smiles, ax in zip(binary_blends[binary_blends >= 3].index, axmatrix.flatten()):\n",
    "    \n",
    "    df = (\n",
    "        blends[blends.components == smiles]\n",
    "        .merge(fuel_comp[fuel_comp.SMILES == smiles[0]], right_on=\"No\", left_index=True)\n",
    "        .sort_values(\"mol_pct\")\n",
    "    )\n",
    "    \n",
    "    ax.set_title(f\"{smiles[0]} in \\n {smiles[1]}\", fontsize=12)\n",
    "    \n",
    "    ax.plot(df.mol_pct, df.CN, \".\")\n",
    "    \n",
    "    xs = np.linspace(0, 1, num=50)\n",
    "    X_reg = pd.DataFrame(np.zeros((X.shape[1], len(xs))), index=X.columns)\n",
    "    X_reg[X.columns == smiles[0]] = xs\n",
    "    X_reg[X.columns == smiles[1]] = 1 - xs\n",
    "    \n",
    "    ax.plot(xs, reg.predict(X_reg.T), '-')\n",
    "    \n",
    "    if smiles[0] in pure_comps.index:\n",
    "        ax.plot(1, pure_comps.loc[smiles[0], 'CN'], \"o\", color='b')\n",
    "        \n",
    "    \n",
    "    if smiles[1] in pure_comps.index:\n",
    "        ax.plot(0, pure_comps.loc[smiles[1], 'CN'], \"o\", color='b')\n",
    "        \n",
    "    \n",
    "    ax.set_xlim([-.1, 1.1])\n",
    "    \n",
    "sns.despine()\n",
    "plt.tight_layout()"
   ]
  },
  {
   "cell_type": "markdown",
   "id": "33ffb126-2307-4262-b7cf-55ae072e3e48",
   "metadata": {},
   "source": [
    "# Model for CN regression considering blend effects\n",
    "\n",
    "$$CN = \\sum_i X_i CN_i$$\n",
    "$$CN_i = X W$$\n",
    "\n",
    "Here, we assume that cetane number is determined by the linear (molar) combination of each component's blending cetane number, and that the blending cetane number is composition-dependent. We further assume that blending a component's cetane number is specified by $ x_j^T w_j $, where $x_j$ is the concentration of a given component in the blend, and $w_j$ is the blending cetane number of the current component *at infinite dilution* in component $j$. (When $i = j$, i.e., the diagonal of matrix $W$, it is the pure-component cetane number.\n",
    "\n",
    "This assumes that blending cetane number can be described by a linear model; and for a binary blend, that the blending cetane number varies linearly between the pure-component cetane number and some infinite-dilution cetane number.\n"
   ]
  },
  {
   "cell_type": "code",
   "execution_count": 21,
   "id": "10e16013-f9b6-4012-9904-0680b8937652",
   "metadata": {},
   "outputs": [],
   "source": [
    "from cn_model import CNModel"
   ]
  },
  {
   "cell_type": "code",
   "execution_count": 22,
   "id": "08ea48a1-7e97-48ac-92a2-f69e4e634683",
   "metadata": {},
   "outputs": [
    {
     "name": "stderr",
     "output_type": "stream",
     "text": [
      "2023-04-20 14:03:22.457352: I tensorflow/compiler/mlir/mlir_graph_optimization_pass.cc:176] None of the MLIR Optimization Passes are enabled (registered 2)\n"
     ]
    },
    {
     "data": {
      "text/plain": [
       "[<matplotlib.lines.Line2D at 0x7fc2604a6090>]"
      ]
     },
     "execution_count": 22,
     "metadata": {},
     "output_type": "execute_result"
    },
    {
     "data": {
      "image/png": "[encoded data removed]",
      "text/plain": [
       "<Figure size 432x288 with 1 Axes>"
      ]
     },
     "metadata": {
      "needs_background": "light"
     },
     "output_type": "display_data"
    }
   ],
   "source": [
    "m = CNModel()\n",
    "m.compile(loss='mae', optimizer=tf.keras.optimizers.Adam(learning_rate=1.))\n",
    "hist = m.fit(X, y, batch_size=len(X), epochs=1000, verbose=0)\n",
    "plt.semilogy(hist.history['loss'])"
   ]
  },
  {
   "cell_type": "code",
   "execution_count": 23,
   "id": "0c4a820d-6d65-45df-a72e-db094f9fe360",
   "metadata": {},
   "outputs": [
    {
     "data": {
      "text/plain": [
       "0.8827858567237854"
      ]
     },
     "execution_count": 23,
     "metadata": {},
     "output_type": "execute_result"
    }
   ],
   "source": [
    "hist.history['loss'][-1]"
   ]
  },
  {
   "cell_type": "code",
   "execution_count": 24,
   "id": "912bb9fe-3825-4c66-9882-9a93a766ac81",
   "metadata": {},
   "outputs": [
    {
     "data": {
      "text/plain": [
       "[<matplotlib.lines.Line2D at 0x7fc260a5bd90>]"
      ]
     },
     "execution_count": 24,
     "metadata": {},
     "output_type": "execute_result"
    },
    {
     "data": {
      "image/png": "[encoded data removed]",
      "text/plain": [
       "<Figure size 288x288 with 1 Axes>"
      ]
     },
     "metadata": {
      "needs_background": "light"
     },
     "output_type": "display_data"
    }
   ],
   "source": [
    "plt.figure(figsize=(4, 4))\n",
    "plt.plot(m(tf.convert_to_tensor(X)), y, \".\", ms=2.5)"
   ]
  },
  {
   "cell_type": "markdown",
   "id": "9cc0841b-9a42-4950-9445-f4eb2e0b130e",
   "metadata": {},
   "source": [
    "It might be worth looking in more detail at some of these outliers -- there's no validation data here yet, I'm just trying to find a model structure that fits the data well. These points would violate the assumptions I laid out above, and might either be odd chemistry or an experimental / database error"
   ]
  },
  {
   "cell_type": "code",
   "execution_count": 25,
   "id": "40349831-e8b8-4d71-83bc-536824961287",
   "metadata": {},
   "outputs": [
    {
     "data": {
      "image/png": "[encoded data removed]",
      "text/plain": [
       "<Figure size 1080x720 with 20 Axes>"
      ]
     },
     "metadata": {
      "needs_background": "light"
     },
     "output_type": "display_data"
    }
   ],
   "source": [
    "fig, axmatrix = plt.subplots(nrows=4, ncols=5, figsize=(15, 10))\n",
    "\n",
    "for smiles, ax in zip(binary_blends[binary_blends >= 5].index, axmatrix.flatten()):\n",
    "    \n",
    "    df = (\n",
    "        blends[blends.components == smiles]\n",
    "        .merge(fuel_comp[fuel_comp.SMILES == smiles[0]], right_on=\"No\", left_index=True)\n",
    "        .sort_values(\"mol_pct\")\n",
    "    )\n",
    "    \n",
    "    ax.set_title(f\"{smiles[0]} in \\n {smiles[1]}\", fontsize=12)\n",
    "    \n",
    "    ax.plot(df.mol_pct, df.CN, \".\")\n",
    "    \n",
    "    xs = np.linspace(0, 1, num=50)\n",
    "    X_reg = pd.DataFrame(np.zeros((X.shape[1], len(xs)), dtype=np.float64), index=X.columns)\n",
    "    X_reg[X.columns == smiles[0]] = xs\n",
    "    X_reg[X.columns == smiles[1]] = 1 - xs\n",
    "    \n",
    "    ax.plot(xs, m(tf.convert_to_tensor(X_reg.T)), '-')\n",
    "    \n",
    "    if smiles[0] in pure_comps.index:\n",
    "        ax.plot(1, pure_comps.loc[smiles[0], 'CN'], \"o\", color='b')\n",
    "        \n",
    "    \n",
    "    if smiles[1] in pure_comps.index:\n",
    "        ax.plot(0, pure_comps.loc[smiles[1], 'CN'], \"o\", color='b')\n",
    "        \n",
    "    \n",
    "    ax.set_xlim([-.1, 1.1])\n",
    "    \n",
    "sns.despine()\n",
    "plt.tight_layout()"
   ]
  },
  {
   "cell_type": "code",
   "execution_count": 26,
   "id": "13ab6916-94d7-47a9-ae71-d3220395d740",
   "metadata": {},
   "outputs": [
    {
     "data": {
      "text/plain": [
       "SMILES\n",
       "CCO        5.837499\n",
       "CCOCC    136.804611\n",
       "dtype: float32"
      ]
     },
     "execution_count": 26,
     "metadata": {},
     "output_type": "execute_result"
    }
   ],
   "source": [
    "# These are the estimated pure-component cetane numbers\n",
    "m1_cetane_numbers = pd.Series(np.diag(m.W.numpy()), index=X.columns)\n",
    "m1_cetane_numbers"
   ]
  },
  {
   "cell_type": "markdown",
   "id": "7a4c9f47",
   "metadata": {},
   "source": [
    "# W demo - ethanol-diethyl ether example (YJ)"
   ]
  },
  {
   "cell_type": "code",
   "execution_count": 28,
   "id": "b1120428-aef7-4408-a390-e67a8b648c5e",
   "metadata": {},
   "outputs": [
    {
     "data": {
      "text/plain": [
       "(0, 1)"
      ]
     },
     "execution_count": 28,
     "metadata": {},
     "output_type": "execute_result"
    }
   ],
   "source": [
    "list(fuel_comp.SMILES.unique()).index('CCO'), list(fuel_comp.SMILES.unique()).index('CCOCC')"
   ]
  },
  {
   "cell_type": "code",
   "execution_count": 29,
   "id": "f7b80bec",
   "metadata": {},
   "outputs": [
    {
     "data": {
      "text/plain": [
       "array([[  5.8374987,   8.108216 ],\n",
       "       [  7.841067 , 136.80461  ]], dtype=float32)"
      ]
     },
     "execution_count": 29,
     "metadata": {},
     "output_type": "execute_result"
    }
   ],
   "source": [
    "m.W.numpy()"
   ]
  },
  {
   "cell_type": "code",
   "execution_count": 30,
   "id": "b4df765f",
   "metadata": {},
   "outputs": [
    {
     "data": {
      "text/html": [
       "<div>\n",
       "<style scoped>\n",
       "    .dataframe tbody tr th:only-of-type {\n",
       "        vertical-align: middle;\n",
       "    }\n",
       "\n",
       "    .dataframe tbody tr th {\n",
       "        vertical-align: top;\n",
       "    }\n",
       "\n",
       "    .dataframe thead th {\n",
       "        text-align: right;\n",
       "    }\n",
       "</style>\n",
       "<table border=\"1\" class=\"dataframe\">\n",
       "  <thead>\n",
       "    <tr style=\"text-align: right;\">\n",
       "      <th></th>\n",
       "      <th>x_mol_1</th>\n",
       "      <th>x_mol_2</th>\n",
       "      <th>CN</th>\n",
       "    </tr>\n",
       "  </thead>\n",
       "  <tbody>\n",
       "    <tr>\n",
       "      <th>0</th>\n",
       "      <td>0.941</td>\n",
       "      <td>0.059</td>\n",
       "      <td>7.8</td>\n",
       "    </tr>\n",
       "    <tr>\n",
       "      <th>1</th>\n",
       "      <td>0.877</td>\n",
       "      <td>0.123</td>\n",
       "      <td>8.2</td>\n",
       "    </tr>\n",
       "    <tr>\n",
       "      <th>2</th>\n",
       "      <td>0.842</td>\n",
       "      <td>0.158</td>\n",
       "      <td>9.2</td>\n",
       "    </tr>\n",
       "    <tr>\n",
       "      <th>3</th>\n",
       "      <td>0.806</td>\n",
       "      <td>0.194</td>\n",
       "      <td>10.5</td>\n",
       "    </tr>\n",
       "    <tr>\n",
       "      <th>4</th>\n",
       "      <td>0.768</td>\n",
       "      <td>0.232</td>\n",
       "      <td>11.0</td>\n",
       "    </tr>\n",
       "    <tr>\n",
       "      <th>5</th>\n",
       "      <td>0.728</td>\n",
       "      <td>0.272</td>\n",
       "      <td>16.9</td>\n",
       "    </tr>\n",
       "    <tr>\n",
       "      <th>6</th>\n",
       "      <td>0.640</td>\n",
       "      <td>0.360</td>\n",
       "      <td>23.8</td>\n",
       "    </tr>\n",
       "    <tr>\n",
       "      <th>7</th>\n",
       "      <td>0.543</td>\n",
       "      <td>0.457</td>\n",
       "      <td>35.5</td>\n",
       "    </tr>\n",
       "    <tr>\n",
       "      <th>8</th>\n",
       "      <td>0.433</td>\n",
       "      <td>0.567</td>\n",
       "      <td>48.9</td>\n",
       "    </tr>\n",
       "    <tr>\n",
       "      <th>9</th>\n",
       "      <td>0.372</td>\n",
       "      <td>0.628</td>\n",
       "      <td>56.6</td>\n",
       "    </tr>\n",
       "    <tr>\n",
       "      <th>10</th>\n",
       "      <td>0.308</td>\n",
       "      <td>0.692</td>\n",
       "      <td>67.9</td>\n",
       "    </tr>\n",
       "    <tr>\n",
       "      <th>11</th>\n",
       "      <td>0.165</td>\n",
       "      <td>0.835</td>\n",
       "      <td>97.7</td>\n",
       "    </tr>\n",
       "  </tbody>\n",
       "</table>\n",
       "</div>"
      ],
      "text/plain": [
       "    x_mol_1  x_mol_2    CN\n",
       "0     0.941    0.059   7.8\n",
       "1     0.877    0.123   8.2\n",
       "2     0.842    0.158   9.2\n",
       "3     0.806    0.194  10.5\n",
       "4     0.768    0.232  11.0\n",
       "5     0.728    0.272  16.9\n",
       "6     0.640    0.360  23.8\n",
       "7     0.543    0.457  35.5\n",
       "8     0.433    0.567  48.9\n",
       "9     0.372    0.628  56.6\n",
       "10    0.308    0.692  67.9\n",
       "11    0.165    0.835  97.7"
      ]
     },
     "execution_count": 30,
     "metadata": {},
     "output_type": "execute_result"
    }
   ],
   "source": [
    "data[(data.smi_mol1 == 'CCO') & (data.smi_mol2 == 'CCOCC') & (data.smi_mol3.isna())][['x_mol_1',\n",
    "                                                                                      'x_mol_2',\n",
    "                                                                                      'CN']]"
   ]
  },
  {
   "cell_type": "code",
   "execution_count": 31,
   "id": "b732a04b",
   "metadata": {},
   "outputs": [],
   "source": [
    "data[(data.smi_mol1 == 'CCO') & (data.smi_mol2 == 'CCOCC') & (data.smi_mol3.isna())][['x_mol_1',\n",
    "                                                                                      'x_mol_2',\n",
    "                                                                                      'CN']].to_csv('cco_ccocc_test.csv', index=False)"
   ]
  },
  {
   "cell_type": "code",
   "execution_count": 32,
   "id": "e2a01acc-08e5-4d65-a015-2d921c2cd3ef",
   "metadata": {},
   "outputs": [
    {
     "data": {
      "text/plain": [
       "<AxesSubplot:>"
      ]
     },
     "execution_count": 32,
     "metadata": {},
     "output_type": "execute_result"
    },
    {
     "data": {
      "image/png": "[encoded data removed]",
      "text/plain": [
       "<Figure size 432x288 with 2 Axes>"
      ]
     },
     "metadata": {
      "needs_background": "light"
     },
     "output_type": "display_data"
    }
   ],
   "source": [
    "# For this regression, most of the off-diagonal coefficients are zero, since we don't have data for those blends\n",
    "sns.heatmap(m.W.numpy(), cmap='bwr', center=0)"
   ]
  }
 ],
 "metadata": {
  "kernelspec": {
   "display_name": "Python 3 (ipykernel)",
   "language": "python",
   "name": "python3"
  },
  "language_info": {
   "codemirror_mode": {
    "name": "ipython",
    "version": 3
   },
   "file_extension": ".py",
   "mimetype": "text/x-python",
   "name": "python",
   "nbconvert_exporter": "python",
   "pygments_lexer": "ipython3",
   "version": "3.7.11"
  }
 },
 "nbformat": 4,
 "nbformat_minor": 5
}
