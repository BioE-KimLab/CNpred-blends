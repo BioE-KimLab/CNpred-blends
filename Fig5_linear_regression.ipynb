{
 "cells": [
  {
   "cell_type": "code",
   "execution_count": 1,
   "id": "1be6002c",
   "metadata": {},
   "outputs": [],
   "source": [
    "import matplotlib.pyplot as plt\n",
    "import numpy as np\n",
    "import pandas as pd\n",
    "import rdkit.rdBase as rkrb\n",
    "import rdkit.RDLogger as rkl\n",
    "import seaborn as sns\n",
    "from rdkit.Chem import CanonSmiles\n",
    "from tqdm.auto import tqdm\n",
    "\n",
    "sns.set(context=\"talk\", style=\"ticks\", color_codes=True, rc={\"legend.frameon\": False})\n",
    "\n",
    "\n",
    "logger = rkl.logger()\n",
    "logger.setLevel(rkl.ERROR)\n",
    "rkrb.DisableLog(\"rdApp.error\")\n",
    "tqdm.pandas()\n",
    "\n",
    "%matplotlib inline"
   ]
  },
  {
   "cell_type": "code",
   "execution_count": 2,
   "id": "d1d9cdff-1fd6-4975-b8b3-d6c60b60f960",
   "metadata": {},
   "outputs": [],
   "source": [
    "data = pd.read_csv(\"220629_dupl_rmvd.csv\")\n",
    "data = data[~data.No.isin([48, 199, 1155, 517, 518, 931])]"
   ]
  },
  {
   "cell_type": "code",
   "execution_count": 3,
   "id": "7e33ee47-2d82-4394-9bc2-3441a07f648d",
   "metadata": {},
   "outputs": [],
   "source": [
    "data = data[data[\"Mole/Weight/Volume Fraction\"] == \"mole\"]"
   ]
  },
  {
   "cell_type": "code",
   "execution_count": 4,
   "id": "2d9a31a7",
   "metadata": {},
   "outputs": [],
   "source": [
    "blends = data[\n",
    "    [\n",
    "        \"No\",\n",
    "        \"Mole/Weight/Volume Fraction\",\n",
    "        \"CN\",\n",
    "        \"DCN or ICN\",\n",
    "        \"Method\",\n",
    "        \"Device\",\n",
    "        \"Comments\",\n",
    "        \"Reference\",\n",
    "    ]\n",
    "]"
   ]
  },
  {
   "cell_type": "code",
   "execution_count": 5,
   "id": "bb2f7a99",
   "metadata": {},
   "outputs": [
    {
     "data": {
      "text/plain": [
       "mole    1222\n",
       "Name: Mole/Weight/Volume Fraction, dtype: int64"
      ]
     },
     "execution_count": 5,
     "metadata": {},
     "output_type": "execute_result"
    }
   ],
   "source": [
    "blends[\"Mole/Weight/Volume Fraction\"].value_counts()"
   ]
  },
  {
   "cell_type": "code",
   "execution_count": 6,
   "id": "f0764e54",
   "metadata": {},
   "outputs": [],
   "source": [
    "smiles = data.melt(\n",
    "    id_vars=\"No\",\n",
    "    value_vars=data.columns[data.columns.str.startswith(\"smi_mol\")],\n",
    "    value_name=\"SMILES\",\n",
    ")\n",
    "m_conc = data.melt(\n",
    "    id_vars=\"No\",\n",
    "    value_vars=data.columns[data.columns.str.startswith(\"x_mol\")],\n",
    "    value_name=\"mol_pct\",\n",
    ")\n",
    "\n",
    "\n",
    "def try_canon_smiles(x):\n",
    "    try:\n",
    "        return CanonSmiles(x)\n",
    "    except Exception:\n",
    "        return None\n",
    "\n",
    "\n",
    "smiles[\"SMILES\"] = smiles.SMILES.apply(try_canon_smiles)\n",
    "smiles[\"mol_pct\"] = m_conc[\"mol_pct\"]\n",
    "fuel_comp = smiles.drop(\"variable\", axis=1)"
   ]
  },
  {
   "cell_type": "code",
   "execution_count": 7,
   "id": "f5f32d84-c16e-4ab1-a00f-f43b70c3954e",
   "metadata": {},
   "outputs": [
    {
     "data": {
      "text/html": [
       "<div>\n",
       "<style scoped>\n",
       "    .dataframe tbody tr th:only-of-type {\n",
       "        vertical-align: middle;\n",
       "    }\n",
       "\n",
       "    .dataframe tbody tr th {\n",
       "        vertical-align: top;\n",
       "    }\n",
       "\n",
       "    .dataframe thead th {\n",
       "        text-align: right;\n",
       "    }\n",
       "</style>\n",
       "<table border=\"1\" class=\"dataframe\">\n",
       "  <thead>\n",
       "    <tr style=\"text-align: right;\">\n",
       "      <th></th>\n",
       "      <th>No</th>\n",
       "      <th>SMILES</th>\n",
       "      <th>mol_pct</th>\n",
       "    </tr>\n",
       "  </thead>\n",
       "  <tbody>\n",
       "    <tr>\n",
       "      <th>0</th>\n",
       "      <td>4</td>\n",
       "      <td>CCCCCCCCCC</td>\n",
       "      <td>0.796</td>\n",
       "    </tr>\n",
       "    <tr>\n",
       "      <th>1</th>\n",
       "      <td>4</td>\n",
       "      <td>Cc1ccccc1</td>\n",
       "      <td>0.204</td>\n",
       "    </tr>\n",
       "    <tr>\n",
       "      <th>2</th>\n",
       "      <td>5</td>\n",
       "      <td>CCCCCCCCCC</td>\n",
       "      <td>0.592</td>\n",
       "    </tr>\n",
       "    <tr>\n",
       "      <th>3</th>\n",
       "      <td>5</td>\n",
       "      <td>Cc1ccccc1</td>\n",
       "      <td>0.408</td>\n",
       "    </tr>\n",
       "    <tr>\n",
       "      <th>4</th>\n",
       "      <td>6</td>\n",
       "      <td>Cc1ccccc1</td>\n",
       "      <td>0.804</td>\n",
       "    </tr>\n",
       "  </tbody>\n",
       "</table>\n",
       "</div>"
      ],
      "text/plain": [
       "   No      SMILES  mol_pct\n",
       "0   4  CCCCCCCCCC    0.796\n",
       "1   4   Cc1ccccc1    0.204\n",
       "2   5  CCCCCCCCCC    0.592\n",
       "3   5   Cc1ccccc1    0.408\n",
       "4   6   Cc1ccccc1    0.804"
      ]
     },
     "execution_count": 7,
     "metadata": {},
     "output_type": "execute_result"
    }
   ],
   "source": [
    "fuel_comp = (\n",
    "    fuel_comp.dropna()\n",
    "    .sort_values([\"No\", \"mol_pct\"], ascending=[True, False])\n",
    "    .reset_index(drop=True)\n",
    ")\n",
    "\n",
    "assert np.allclose(m_conc.groupby(\"No\").sum(), 1.0, atol=0.01)\n",
    "fuel_comp.head()"
   ]
  },
  {
   "cell_type": "code",
   "execution_count": 8,
   "id": "69695cec-ac90-402a-a681-ebbeb4e372e4",
   "metadata": {},
   "outputs": [
    {
     "data": {
      "text/plain": [
       "False"
      ]
     },
     "execution_count": 8,
     "metadata": {},
     "output_type": "execute_result"
    }
   ],
   "source": [
    "fuel_comp.SMILES.isna().any()"
   ]
  },
  {
   "cell_type": "code",
   "execution_count": 9,
   "id": "ca0b800c-4956-4ec8-9c7e-0a018e2eb5ae",
   "metadata": {},
   "outputs": [
    {
     "data": {
      "text/plain": [
       "428"
      ]
     },
     "execution_count": 9,
     "metadata": {},
     "output_type": "execute_result"
    }
   ],
   "source": [
    "len(fuel_comp.SMILES.unique())"
   ]
  },
  {
   "cell_type": "code",
   "execution_count": 10,
   "id": "75e4c459-5388-4a16-bdd7-6bb5496683a2",
   "metadata": {},
   "outputs": [],
   "source": [
    "X = fuel_comp.pivot(columns=\"SMILES\", index=\"No\", values=\"mol_pct\").fillna(0.0)\n",
    "\n",
    "blends = blends.set_index(\"No\").reindex(X.index)\n",
    "y = blends.CN"
   ]
  },
  {
   "cell_type": "code",
   "execution_count": 11,
   "id": "0c8a4bcf-80f5-4de7-bf30-f5ae50852ca8",
   "metadata": {},
   "outputs": [],
   "source": [
    "import sklearn\n",
    "from sklearn.linear_model import LinearRegression"
   ]
  },
  {
   "cell_type": "code",
   "execution_count": 12,
   "id": "c342dcd1-3edc-4746-8973-89af84264811",
   "metadata": {},
   "outputs": [],
   "source": [
    "reg = LinearRegression().fit(X, y)"
   ]
  },
  {
   "cell_type": "code",
   "execution_count": 13,
   "id": "35fad676-5157-4bc6-b069-0a5c9b5c5501",
   "metadata": {},
   "outputs": [
    {
     "data": {
      "text/plain": [
       "[<matplotlib.lines.Line2D at 0x7fcf23e16c10>]"
      ]
     },
     "execution_count": 13,
     "metadata": {},
     "output_type": "execute_result"
    },
    {
     "data": {
      "image/png": "[encoded data removed]",
      "text/plain": [
       "<Figure size 288x288 with 1 Axes>"
      ]
     },
     "metadata": {
      "needs_background": "light"
     },
     "output_type": "display_data"
    }
   ],
   "source": [
    "plt.figure(figsize=(4, 4))\n",
    "plt.plot(reg.predict(X), y, \".\", ms=2.5)"
   ]
  },
  {
   "cell_type": "code",
   "execution_count": 14,
   "id": "0751b718-500c-4da3-9b42-7ad12845fd43",
   "metadata": {},
   "outputs": [],
   "source": [
    "blends[\"reg_err\"] = reg.predict(X) - y"
   ]
  },
  {
   "cell_type": "code",
   "execution_count": 15,
   "id": "841c88e3-b38c-41a6-94a5-88e39d38181f",
   "metadata": {},
   "outputs": [
    {
     "data": {
      "text/html": [
       "<div>\n",
       "<style scoped>\n",
       "    .dataframe tbody tr th:only-of-type {\n",
       "        vertical-align: middle;\n",
       "    }\n",
       "\n",
       "    .dataframe tbody tr th {\n",
       "        vertical-align: top;\n",
       "    }\n",
       "\n",
       "    .dataframe thead th {\n",
       "        text-align: right;\n",
       "    }\n",
       "</style>\n",
       "<table border=\"1\" class=\"dataframe\">\n",
       "  <thead>\n",
       "    <tr style=\"text-align: right;\">\n",
       "      <th></th>\n",
       "      <th>Mole/Weight/Volume Fraction</th>\n",
       "      <th>CN</th>\n",
       "      <th>DCN or ICN</th>\n",
       "      <th>Method</th>\n",
       "      <th>Device</th>\n",
       "      <th>Comments</th>\n",
       "      <th>Reference</th>\n",
       "      <th>reg_err</th>\n",
       "    </tr>\n",
       "    <tr>\n",
       "      <th>No</th>\n",
       "      <th></th>\n",
       "      <th></th>\n",
       "      <th></th>\n",
       "      <th></th>\n",
       "      <th></th>\n",
       "      <th></th>\n",
       "      <th></th>\n",
       "      <th></th>\n",
       "    </tr>\n",
       "  </thead>\n",
       "  <tbody>\n",
       "    <tr>\n",
       "      <th>504</th>\n",
       "      <td>mole</td>\n",
       "      <td>97.20</td>\n",
       "      <td>DCN</td>\n",
       "      <td>ASTM D6890</td>\n",
       "      <td>IQT</td>\n",
       "      <td>NaN</td>\n",
       "      <td>20</td>\n",
       "      <td>-18.333321</td>\n",
       "    </tr>\n",
       "    <tr>\n",
       "      <th>795</th>\n",
       "      <td>mole</td>\n",
       "      <td>41.00</td>\n",
       "      <td>DCN</td>\n",
       "      <td>ASTM D6890</td>\n",
       "      <td>IQT</td>\n",
       "      <td>NaN</td>\n",
       "      <td>41</td>\n",
       "      <td>-17.404549</td>\n",
       "    </tr>\n",
       "    <tr>\n",
       "      <th>608</th>\n",
       "      <td>mole</td>\n",
       "      <td>67.83</td>\n",
       "      <td>DCN</td>\n",
       "      <td>ASTM D6890</td>\n",
       "      <td>IQT</td>\n",
       "      <td>NaN</td>\n",
       "      <td>25</td>\n",
       "      <td>-16.482240</td>\n",
       "    </tr>\n",
       "    <tr>\n",
       "      <th>115</th>\n",
       "      <td>mole</td>\n",
       "      <td>52.00</td>\n",
       "      <td>CN</td>\n",
       "      <td>NaN</td>\n",
       "      <td>NaN</td>\n",
       "      <td>Converted from weight ratio to mole ratio.  Th...</td>\n",
       "      <td>5</td>\n",
       "      <td>-15.477990</td>\n",
       "    </tr>\n",
       "    <tr>\n",
       "      <th>497</th>\n",
       "      <td>mole</td>\n",
       "      <td>106.20</td>\n",
       "      <td>DCN</td>\n",
       "      <td>ASTM D6890</td>\n",
       "      <td>IQT</td>\n",
       "      <td>NaN</td>\n",
       "      <td>20</td>\n",
       "      <td>-13.866278</td>\n",
       "    </tr>\n",
       "    <tr>\n",
       "      <th>...</th>\n",
       "      <td>...</td>\n",
       "      <td>...</td>\n",
       "      <td>...</td>\n",
       "      <td>...</td>\n",
       "      <td>...</td>\n",
       "      <td>...</td>\n",
       "      <td>...</td>\n",
       "      <td>...</td>\n",
       "    </tr>\n",
       "    <tr>\n",
       "      <th>996</th>\n",
       "      <td>mole</td>\n",
       "      <td>6.00</td>\n",
       "      <td>DCN</td>\n",
       "      <td>ASTM D6890</td>\n",
       "      <td>IQT</td>\n",
       "      <td>NaN</td>\n",
       "      <td>16</td>\n",
       "      <td>11.152499</td>\n",
       "    </tr>\n",
       "    <tr>\n",
       "      <th>1007</th>\n",
       "      <td>mole</td>\n",
       "      <td>0.00</td>\n",
       "      <td>DCN</td>\n",
       "      <td>ASTM D613</td>\n",
       "      <td>By definition</td>\n",
       "      <td>NaN</td>\n",
       "      <td>55</td>\n",
       "      <td>11.463970</td>\n",
       "    </tr>\n",
       "    <tr>\n",
       "      <th>945</th>\n",
       "      <td>mole</td>\n",
       "      <td>72.90</td>\n",
       "      <td>DCN</td>\n",
       "      <td>ASTM D6890</td>\n",
       "      <td>IQT</td>\n",
       "      <td>NaN</td>\n",
       "      <td>53</td>\n",
       "      <td>12.054442</td>\n",
       "    </tr>\n",
       "    <tr>\n",
       "      <th>948</th>\n",
       "      <td>mole</td>\n",
       "      <td>100.00</td>\n",
       "      <td>CN</td>\n",
       "      <td>ASTM D613</td>\n",
       "      <td>By definition</td>\n",
       "      <td>NaN</td>\n",
       "      <td>55</td>\n",
       "      <td>17.626980</td>\n",
       "    </tr>\n",
       "    <tr>\n",
       "      <th>86</th>\n",
       "      <td>mole</td>\n",
       "      <td>34.20</td>\n",
       "      <td>CN</td>\n",
       "      <td>NaN</td>\n",
       "      <td>NaN</td>\n",
       "      <td>Converted from weight ratio to mole ratio.  Th...</td>\n",
       "      <td>5</td>\n",
       "      <td>19.633600</td>\n",
       "    </tr>\n",
       "  </tbody>\n",
       "</table>\n",
       "<p>1210 rows × 8 columns</p>\n",
       "</div>"
      ],
      "text/plain": [
       "     Mole/Weight/Volume Fraction      CN DCN or ICN      Method  \\\n",
       "No                                                                \n",
       "504                         mole   97.20        DCN  ASTM D6890   \n",
       "795                         mole   41.00        DCN  ASTM D6890   \n",
       "608                         mole   67.83        DCN  ASTM D6890   \n",
       "115                         mole   52.00         CN         NaN   \n",
       "497                         mole  106.20        DCN  ASTM D6890   \n",
       "...                          ...     ...        ...         ...   \n",
       "996                         mole    6.00        DCN  ASTM D6890   \n",
       "1007                        mole    0.00        DCN   ASTM D613   \n",
       "945                         mole   72.90        DCN  ASTM D6890   \n",
       "948                         mole  100.00         CN   ASTM D613   \n",
       "86                          mole   34.20         CN         NaN   \n",
       "\n",
       "             Device                                           Comments  \\\n",
       "No                                                                       \n",
       "504             IQT                                                NaN   \n",
       "795             IQT                                                NaN   \n",
       "608             IQT                                                NaN   \n",
       "115             NaN  Converted from weight ratio to mole ratio.  Th...   \n",
       "497             IQT                                                NaN   \n",
       "...             ...                                                ...   \n",
       "996             IQT                                                NaN   \n",
       "1007  By definition                                                NaN   \n",
       "945             IQT                                                NaN   \n",
       "948   By definition                                                NaN   \n",
       "86              NaN  Converted from weight ratio to mole ratio.  Th...   \n",
       "\n",
       "     Reference    reg_err  \n",
       "No                         \n",
       "504         20 -18.333321  \n",
       "795         41 -17.404549  \n",
       "608         25 -16.482240  \n",
       "115          5 -15.477990  \n",
       "497         20 -13.866278  \n",
       "...        ...        ...  \n",
       "996         16  11.152499  \n",
       "1007        55  11.463970  \n",
       "945         53  12.054442  \n",
       "948         55  17.626980  \n",
       "86           5  19.633600  \n",
       "\n",
       "[1210 rows x 8 columns]"
      ]
     },
     "execution_count": 15,
     "metadata": {},
     "output_type": "execute_result"
    }
   ],
   "source": [
    "blends.sort_values(\"reg_err\")"
   ]
  },
  {
   "cell_type": "code",
   "execution_count": 16,
   "id": "c9a4f821-44a7-4128-bbdb-8b046a887912",
   "metadata": {},
   "outputs": [
    {
     "data": {
      "text/plain": [
       "1.8573646700218462"
      ]
     },
     "execution_count": 16,
     "metadata": {},
     "output_type": "execute_result"
    }
   ],
   "source": [
    "sklearn.metrics.mean_absolute_error(reg.predict(X), y)"
   ]
  },
  {
   "cell_type": "code",
   "execution_count": 17,
   "id": "27765f25-0c2c-4c5c-850a-add495c2f4a6",
   "metadata": {},
   "outputs": [],
   "source": [
    "num_comps = fuel_comp.No.value_counts()\n",
    "binary_blends = blends[blends.index.isin(num_comps[num_comps == 2].index)]"
   ]
  },
  {
   "cell_type": "code",
   "execution_count": 18,
   "id": "9b052ee9-2759-45a7-973e-b8205b1e8c68",
   "metadata": {},
   "outputs": [],
   "source": [
    "blends[\"components\"] = fuel_comp.groupby(\"No\").apply(\n",
    "    lambda df: tuple(sorted(df.SMILES))\n",
    ")"
   ]
  },
  {
   "cell_type": "code",
   "execution_count": 19,
   "id": "8bc02df3-4942-4668-b2ff-f7a7b6ff4301",
   "metadata": {},
   "outputs": [],
   "source": [
    "binary_blends = blends[blends.components.apply(len) == 2].components.value_counts()"
   ]
  },
  {
   "cell_type": "code",
   "execution_count": 20,
   "id": "20c26ea6-ef9b-42a2-9810-2cba1a400842",
   "metadata": {},
   "outputs": [
    {
     "data": {
      "text/html": [
       "<div>\n",
       "<style scoped>\n",
       "    .dataframe tbody tr th:only-of-type {\n",
       "        vertical-align: middle;\n",
       "    }\n",
       "\n",
       "    .dataframe tbody tr th {\n",
       "        vertical-align: top;\n",
       "    }\n",
       "\n",
       "    .dataframe thead th {\n",
       "        text-align: right;\n",
       "    }\n",
       "</style>\n",
       "<table border=\"1\" class=\"dataframe\">\n",
       "  <thead>\n",
       "    <tr style=\"text-align: right;\">\n",
       "      <th></th>\n",
       "      <th>Mole/Weight/Volume Fraction</th>\n",
       "      <th>CN</th>\n",
       "      <th>DCN or ICN</th>\n",
       "      <th>Method</th>\n",
       "      <th>Device</th>\n",
       "      <th>Comments</th>\n",
       "      <th>Reference</th>\n",
       "      <th>reg_err</th>\n",
       "      <th>components</th>\n",
       "      <th>No</th>\n",
       "      <th>SMILES</th>\n",
       "      <th>mol_pct</th>\n",
       "    </tr>\n",
       "  </thead>\n",
       "  <tbody>\n",
       "    <tr>\n",
       "      <th>1762</th>\n",
       "      <td>mole</td>\n",
       "      <td>19.84</td>\n",
       "      <td>DCN</td>\n",
       "      <td>ASTM D6890</td>\n",
       "      <td>IQT</td>\n",
       "      <td>NaN</td>\n",
       "      <td>22</td>\n",
       "      <td>6.064148</td>\n",
       "      <td>(CCCCCCC, Cc1ccccc1)</td>\n",
       "      <td>536</td>\n",
       "      <td>CCCCCCC</td>\n",
       "      <td>0.237</td>\n",
       "    </tr>\n",
       "    <tr>\n",
       "      <th>1760</th>\n",
       "      <td>mole</td>\n",
       "      <td>22.93</td>\n",
       "      <td>DCN</td>\n",
       "      <td>ASTM D6890</td>\n",
       "      <td>IQT</td>\n",
       "      <td>NaN</td>\n",
       "      <td>22</td>\n",
       "      <td>4.598926</td>\n",
       "      <td>(CCCCCCC, Cc1ccccc1)</td>\n",
       "      <td>535</td>\n",
       "      <td>CCCCCCC</td>\n",
       "      <td>0.281</td>\n",
       "    </tr>\n",
       "    <tr>\n",
       "      <th>1758</th>\n",
       "      <td>mole</td>\n",
       "      <td>25.80</td>\n",
       "      <td>DCN</td>\n",
       "      <td>ASTM D6890</td>\n",
       "      <td>IQT</td>\n",
       "      <td>NaN</td>\n",
       "      <td>22</td>\n",
       "      <td>3.390632</td>\n",
       "      <td>(CCCCCCC, Cc1ccccc1)</td>\n",
       "      <td>534</td>\n",
       "      <td>CCCCCCC</td>\n",
       "      <td>0.326</td>\n",
       "    </tr>\n",
       "    <tr>\n",
       "      <th>1756</th>\n",
       "      <td>mole</td>\n",
       "      <td>28.62</td>\n",
       "      <td>DCN</td>\n",
       "      <td>ASTM D6890</td>\n",
       "      <td>IQT</td>\n",
       "      <td>NaN</td>\n",
       "      <td>22</td>\n",
       "      <td>2.269264</td>\n",
       "      <td>(CCCCCCC, Cc1ccccc1)</td>\n",
       "      <td>533</td>\n",
       "      <td>CCCCCCC</td>\n",
       "      <td>0.372</td>\n",
       "    </tr>\n",
       "    <tr>\n",
       "      <th>1754</th>\n",
       "      <td>mole</td>\n",
       "      <td>30.98</td>\n",
       "      <td>DCN</td>\n",
       "      <td>ASTM D6890</td>\n",
       "      <td>IQT</td>\n",
       "      <td>NaN</td>\n",
       "      <td>22</td>\n",
       "      <td>1.681750</td>\n",
       "      <td>(CCCCCCC, Cc1ccccc1)</td>\n",
       "      <td>532</td>\n",
       "      <td>CCCCCCC</td>\n",
       "      <td>0.420</td>\n",
       "    </tr>\n",
       "    <tr>\n",
       "      <th>1752</th>\n",
       "      <td>mole</td>\n",
       "      <td>33.75</td>\n",
       "      <td>DCN</td>\n",
       "      <td>ASTM D6890</td>\n",
       "      <td>IQT</td>\n",
       "      <td>NaN</td>\n",
       "      <td>22</td>\n",
       "      <td>0.758089</td>\n",
       "      <td>(CCCCCCC, Cc1ccccc1)</td>\n",
       "      <td>531</td>\n",
       "      <td>CCCCCCC</td>\n",
       "      <td>0.470</td>\n",
       "    </tr>\n",
       "    <tr>\n",
       "      <th>1749</th>\n",
       "      <td>mole</td>\n",
       "      <td>36.74</td>\n",
       "      <td>DCN</td>\n",
       "      <td>ASTM D6890</td>\n",
       "      <td>IQT</td>\n",
       "      <td>NaN</td>\n",
       "      <td>22</td>\n",
       "      <td>-0.348645</td>\n",
       "      <td>(CCCCCCC, Cc1ccccc1)</td>\n",
       "      <td>530</td>\n",
       "      <td>CCCCCCC</td>\n",
       "      <td>0.521</td>\n",
       "    </tr>\n",
       "    <tr>\n",
       "      <th>2167</th>\n",
       "      <td>mole</td>\n",
       "      <td>31.00</td>\n",
       "      <td>DCN</td>\n",
       "      <td>ASTM D6890</td>\n",
       "      <td>IQT</td>\n",
       "      <td>NaN</td>\n",
       "      <td>27</td>\n",
       "      <td>5.686770</td>\n",
       "      <td>(CCCCCCC, Cc1ccccc1)</td>\n",
       "      <td>634</td>\n",
       "      <td>CCCCCCC</td>\n",
       "      <td>0.529</td>\n",
       "    </tr>\n",
       "  </tbody>\n",
       "</table>\n",
       "</div>"
      ],
      "text/plain": [
       "     Mole/Weight/Volume Fraction     CN DCN or ICN      Method Device  \\\n",
       "1762                        mole  19.84        DCN  ASTM D6890    IQT   \n",
       "1760                        mole  22.93        DCN  ASTM D6890    IQT   \n",
       "1758                        mole  25.80        DCN  ASTM D6890    IQT   \n",
       "1756                        mole  28.62        DCN  ASTM D6890    IQT   \n",
       "1754                        mole  30.98        DCN  ASTM D6890    IQT   \n",
       "1752                        mole  33.75        DCN  ASTM D6890    IQT   \n",
       "1749                        mole  36.74        DCN  ASTM D6890    IQT   \n",
       "2167                        mole  31.00        DCN  ASTM D6890    IQT   \n",
       "\n",
       "     Comments Reference   reg_err            components   No   SMILES  mol_pct  \n",
       "1762      NaN        22  6.064148  (CCCCCCC, Cc1ccccc1)  536  CCCCCCC    0.237  \n",
       "1760      NaN        22  4.598926  (CCCCCCC, Cc1ccccc1)  535  CCCCCCC    0.281  \n",
       "1758      NaN        22  3.390632  (CCCCCCC, Cc1ccccc1)  534  CCCCCCC    0.326  \n",
       "1756      NaN        22  2.269264  (CCCCCCC, Cc1ccccc1)  533  CCCCCCC    0.372  \n",
       "1754      NaN        22  1.681750  (CCCCCCC, Cc1ccccc1)  532  CCCCCCC    0.420  \n",
       "1752      NaN        22  0.758089  (CCCCCCC, Cc1ccccc1)  531  CCCCCCC    0.470  \n",
       "1749      NaN        22 -0.348645  (CCCCCCC, Cc1ccccc1)  530  CCCCCCC    0.521  \n",
       "2167      NaN        27  5.686770  (CCCCCCC, Cc1ccccc1)  634  CCCCCCC    0.529  "
      ]
     },
     "execution_count": 20,
     "metadata": {},
     "output_type": "execute_result"
    }
   ],
   "source": [
    "blends[blends.components == ('CCCCCCC', 'Cc1ccccc1')].merge(fuel_comp[fuel_comp.SMILES == 'CCCCCCC'], right_on=\"No\", left_index=True).sort_values(\"mol_pct\")"
   ]
  },
  {
   "cell_type": "code",
   "execution_count": 21,
   "id": "a2dd0876-a800-4b10-8749-2714b3c72076",
   "metadata": {},
   "outputs": [
    {
     "data": {
      "text/plain": [
       "(CC(C)CC(C)(C)C, CCCCCCCCCCCC)                    17\n",
       "(CC(C)CC(C)(C)C, CCCCCCC)                         13\n",
       "(CCO, CCOCC)                                      12\n",
       "(CC(C)CC(C)(C)C, CCCCCCCCCC)                      11\n",
       "(CCCCCCC, CCCCO)                                  10\n",
       "(C1CCCCC1, CC(C)CC(C)(C)C)                         9\n",
       "(CC(C)CC(C)(C)C, c1ccc2c(c1)CCCC2)                 9\n",
       "(C=CCCCC, CC(C)CC(C)(C)C)                          9\n",
       "(CCCCCCC, c1ccoc1)                                 8\n",
       "(CC1CCCO1, CCCCCCC)                                8\n",
       "(CCCCCCC, Cc1ccccc1)                               8\n",
       "(CCCCCCC, CCO)                                     7\n",
       "(CCCCCCC, Cc1ccco1)                                7\n",
       "(CC(C)(C)O, CCCCCCC)                               7\n",
       "(CCCCCCC, Cc1ccc(C)o1)                             7\n",
       "(CCCCCCCCCCCCCCCC, Cc1ccccc1)                      7\n",
       "(CC(CC(C)(C)C)CC(C)(C)CC(C)(C)C, CCCCCCCCCCCC)     6\n",
       "(CCC1CCCO1, CCCCCCC)                               6\n",
       "(CC(C)CO, CCCCCCC)                                 5\n",
       "(CCCCCCCCCC, Cc1ccccc1)                            5\n",
       "(CCCCCCCCCCCC, CCCc1ccccc1)                        5\n",
       "(CCC(C)O, CCCCCCC)                                 5\n",
       "Name: components, dtype: int64"
      ]
     },
     "execution_count": 21,
     "metadata": {},
     "output_type": "execute_result"
    }
   ],
   "source": [
    "binary_blends[binary_blends >= 5]"
   ]
  },
  {
   "cell_type": "code",
   "execution_count": 24,
   "id": "83ad6d08-61a6-4e9d-9775-1ff1c4650298",
   "metadata": {},
   "outputs": [
    {
     "data": {
      "image/png": "[encoded data removed]",
      "text/plain": [
       "<Figure size 1080x720 with 20 Axes>"
      ]
     },
     "metadata": {
      "needs_background": "light"
     },
     "output_type": "display_data"
    }
   ],
   "source": [
    "fig, axmatrix = plt.subplots(nrows=4, ncols=5, figsize=(15, 10))\n",
    "\n",
    "for smiles, ax in zip(binary_blends[binary_blends >= 5].index, axmatrix.flatten()):\n",
    "    \n",
    "    df = (\n",
    "        blends[blends.components == smiles]\n",
    "        .merge(fuel_comp[fuel_comp.SMILES == smiles[0]], right_on=\"No\", left_index=True)\n",
    "        .sort_values(\"mol_pct\")\n",
    "    )\n",
    "    \n",
    "    ax.set_title(f\"{smiles[0]} in \\n {smiles[1]}\", fontsize=12)\n",
    "    \n",
    "    ax.plot(df.mol_pct, df.CN, \".\")\n",
    "    ax.set_xlim([0, 1])\n",
    "    \n",
    "sns.despine()\n",
    "plt.tight_layout()"
   ]
  },
  {
   "cell_type": "code",
   "execution_count": null,
   "id": "peripheral-arrest",
   "metadata": {},
   "outputs": [],
   "source": []
  }
 ],
 "metadata": {
  "kernelspec": {
   "display_name": "Python 3",
   "language": "python",
   "name": "python3"
  },
  "language_info": {
   "codemirror_mode": {
    "name": "ipython",
    "version": 3
   },
   "file_extension": ".py",
   "mimetype": "text/x-python",
   "name": "python",
   "nbconvert_exporter": "python",
   "pygments_lexer": "ipython3",
   "version": "3.7.9"
  }
 },
 "nbformat": 4,
 "nbformat_minor": 5
}
